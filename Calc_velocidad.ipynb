{
  "nbformat": 4,
  "nbformat_minor": 0,
  "metadata": {
    "colab": {
      "provenance": [],
      "authorship_tag": "ABX9TyOGE5eb+TmFgrpM8FjwoB9R",
      "include_colab_link": true
    },
    "kernelspec": {
      "name": "python3",
      "display_name": "Python 3"
    },
    "language_info": {
      "name": "python"
    }
  },
  "cells": [
    {
      "cell_type": "markdown",
      "metadata": {
        "id": "view-in-github",
        "colab_type": "text"
      },
      "source": [
        "<a href=\"https://colab.research.google.com/github/cortezalvarezitzel-beep/Tareas-de-programaci-n/blob/main/Calc_velocidad.ipynb\" target=\"_parent\"><img src=\"https://colab.research.google.com/assets/colab-badge.svg\" alt=\"Open In Colab\"/></a>"
      ]
    },
    {
      "cell_type": "code",
      "execution_count": null,
      "metadata": {
        "collapsed": true,
        "id": "5b08mTU4RvKi"
      },
      "outputs": [],
      "source": [
        "distanciaRecorrida=float(input(\"Ingrese la distancia en metros:\"))\n",
        "tiempoTranscurrido=float(input(\"Ingrese el tiempo transcurrido en segundos:\"))\n",
        "\n",
        "velocidadCalculada=distanciaRecorrida/tiempoTranscurrido\n",
        "\n",
        "print(f\"La velocidad es {velocidadCalculada} m/s\")\n",
        "\n",
        "Ingrese la distancia en metros: 100\n",
        "Ingrese el tiempo en segundos:5\n",
        "La velocidad es 20.0 m/s"
      ]
    }
  ]
}