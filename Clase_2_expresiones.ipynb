{
  "nbformat": 4,
  "nbformat_minor": 0,
  "metadata": {
    "colab": {
      "provenance": [],
      "authorship_tag": "ABX9TyPBccseULdXvYxVGWiw3RHn",
      "include_colab_link": true
    },
    "kernelspec": {
      "name": "python3",
      "display_name": "Python 3"
    },
    "language_info": {
      "name": "python"
    }
  },
  "cells": [
    {
      "cell_type": "markdown",
      "metadata": {
        "id": "view-in-github",
        "colab_type": "text"
      },
      "source": [
        "<a href=\"https://colab.research.google.com/github/cortezalvarezitzel-beep/Tareas-de-programaci-n/blob/main/Clase_2_expresiones.ipynb\" target=\"_parent\"><img src=\"https://colab.research.google.com/assets/colab-badge.svg\" alt=\"Open In Colab\"/></a>"
      ]
    },
    {
      "cell_type": "code",
      "execution_count": 2,
      "metadata": {
        "id": "H0FXHBELO50x"
      },
      "outputs": [],
      "source": []
    },
    {
      "cell_type": "markdown",
      "source": [
        "# Expresiones y comentarios.\n",
        "## Expresiones.\n",
        "Una expresión es una combinación de nombres, objetos, funciones y métodos cuya síntaxis es correcta para el intérprete de Python y que puede dar por resultado un valor.\n",
        "\n",
        "**Ejemplos:**\n",
        "La siguiente celda es una expresión de asignación, la cual liga el nombre numero al objeto 78.3 meidante el operador de asignación."
      ],
      "metadata": {
        "id": "dwVCo8n9POpM"
      }
    },
    {
      "cell_type": "code",
      "source": [
        "numero = 78.3"
      ],
      "metadata": {
        "id": "JtjFYpRTQKsV"
      },
      "execution_count": 3,
      "outputs": []
    },
    {
      "cell_type": "markdown",
      "source": [
        "La siguiente es una expresión que despliega el objeto relacionado con el nombre numero."
      ],
      "metadata": {
        "id": "mGjNWefxQODZ"
      }
    },
    {
      "cell_type": "code",
      "source": [
        "# @title\n",
        "numero"
      ],
      "metadata": {
        "colab": {
          "base_uri": "https://localhost:8080/"
        },
        "id": "oh9x7OjHQXeQ",
        "outputId": "17cc10b0-e72e-4adc-88e3-c7d7d4bc26cc"
      },
      "execution_count": 4,
      "outputs": [
        {
          "output_type": "execute_result",
          "data": {
            "text/plain": [
              "78.3"
            ]
          },
          "metadata": {},
          "execution_count": 4
        }
      ]
    },
    {
      "cell_type": "markdown",
      "source": [
        "La siguiente es una expresión aritmética que implica valores numéricos y el operador +."
      ],
      "metadata": {
        "id": "x4pn_L1-Qdz3"
      }
    },
    {
      "cell_type": "code",
      "source": [
        "1+1"
      ],
      "metadata": {
        "colab": {
          "base_uri": "https://localhost:8080/"
        },
        "id": "EWh8RpgUQmS1",
        "outputId": "8d969432-25c9-4f27-f07a-f1b36fce4837"
      },
      "execution_count": 5,
      "outputs": [
        {
          "output_type": "execute_result",
          "data": {
            "text/plain": [
              "2"
            ]
          },
          "metadata": {},
          "execution_count": 5
        }
      ]
    },
    {
      "cell_type": "markdown",
      "source": [
        "La siguiente es una expresión de relación que evalúa si 20 es mayor o igual a 10 usando el operador >=."
      ],
      "metadata": {
        "id": "pG85a3fkQoap"
      }
    },
    {
      "cell_type": "code",
      "source": [
        "10>=10"
      ],
      "metadata": {
        "colab": {
          "base_uri": "https://localhost:8080/"
        },
        "id": "l7A4Hz-PQ4TF",
        "outputId": "4c4c0a8c-8f99-409a-cafd-228ffc85710d"
      },
      "execution_count": 9,
      "outputs": [
        {
          "output_type": "execute_result",
          "data": {
            "text/plain": [
              "True"
            ]
          },
          "metadata": {},
          "execution_count": 9
        }
      ]
    },
    {
      "cell_type": "markdown",
      "source": [
        "La siguiente expresión ejecuta el método upper () , propio de los objetos tipo str mediante el operador de atributo . .En este caso, convierte todas las letras del texto en mayúsculas."
      ],
      "metadata": {
        "id": "Gx_fBzM1RDda"
      }
    },
    {
      "cell_type": "code",
      "source": [
        "\"carro\".upper()"
      ],
      "metadata": {
        "colab": {
          "base_uri": "https://localhost:8080/",
          "height": 35
        },
        "id": "lfDitEuVRWS7",
        "outputId": "960781d2-c444-4b54-81e5-712185e1fbc1"
      },
      "execution_count": 10,
      "outputs": [
        {
          "output_type": "execute_result",
          "data": {
            "text/plain": [
              "'CARRO'"
            ],
            "application/vnd.google.colaboratory.intrinsic+json": {
              "type": "string"
            }
          },
          "metadata": {},
          "execution_count": 10
        }
      ]
    },
    {
      "cell_type": "markdown",
      "source": [
        "La siguiente celda ejecuta una expresión que invoca a la función 1en()"
      ],
      "metadata": {
        "id": "boOUSbgFRb3e"
      }
    },
    {
      "cell_type": "code",
      "source": [
        "len(\"Trecientos____________________\")"
      ],
      "metadata": {
        "colab": {
          "base_uri": "https://localhost:8080/"
        },
        "id": "OkOgrRXsRxA1",
        "outputId": "7fe12073-3346-484e-f63d-ad53df4923c1"
      },
      "execution_count": 14,
      "outputs": [
        {
          "output_type": "execute_result",
          "data": {
            "text/plain": [
              "30"
            ]
          },
          "metadata": {},
          "execution_count": 14
        }
      ]
    },
    {
      "cell_type": "markdown",
      "source": [
        "# **Ejecución de varias expresiones en una sola linea**\n",
        "El intérprete de Python permite ejecutar múltiples expresiones en una sola línea, denotando el final de una expresión usando el signo de punto y coma ;.\n",
        "Al usar esta síntaxis, el intérprete sólo se deslegará el resultado de la última expresión ejecutada.\n",
        "**Ejemplos:**\n",
        "A continuación se ejecutarán varias expresiones en una sola línea. Todas la expresiones se ejecutaron, pero sólo la última será desplegada."
      ],
      "metadata": {
        "id": "7BIUySouR60T"
      }
    },
    {
      "cell_type": "code",
      "source": [
        "a = 3; \"hola\".upper(); a + 5"
      ],
      "metadata": {
        "colab": {
          "base_uri": "https://localhost:8080/"
        },
        "id": "mQofe9cISj-M",
        "outputId": "47c4aa0d-07d4-43f9-b0c5-52524a70b499"
      },
      "execution_count": 15,
      "outputs": [
        {
          "output_type": "execute_result",
          "data": {
            "text/plain": [
              "8"
            ]
          },
          "metadata": {},
          "execution_count": 15
        }
      ]
    },
    {
      "cell_type": "code",
      "source": [
        "a"
      ],
      "metadata": {
        "colab": {
          "base_uri": "https://localhost:8080/"
        },
        "id": "jyYz9Oh3Su5h",
        "outputId": "1b1e948b-45fd-47e2-97d2-322e32b1431d"
      },
      "execution_count": 16,
      "outputs": [
        {
          "output_type": "execute_result",
          "data": {
            "text/plain": [
              "3"
            ]
          },
          "metadata": {},
          "execution_count": 16
        }
      ]
    },
    {
      "cell_type": "markdown",
      "source": [
        "Si la última expresión también termina con un punto y coma, tampoco será desplegada."
      ],
      "metadata": {
        "id": "0n3H9HzzSwf9"
      }
    },
    {
      "cell_type": "code",
      "source": [
        "a += 11; \"amigos\" * 3; a == 1;"
      ],
      "metadata": {
        "id": "uA_EjhfxS4Kq"
      },
      "execution_count": 20,
      "outputs": []
    },
    {
      "cell_type": "markdown",
      "source": [
        "**Advertencia:** No se recomienda usar este recurso ya que se corre el riesgo de ofuscar el código innecesariamente.\n",
        "Expresiones en el entorno interactivo. La interfaz interactiva evalúa las expresiones tan pronto como son ingresadas y en su caso despliega el resultado.\n",
        "**Ejemplos:**\n",
        "Las siguientes celdas contienen varias expresiones cuyo resultado será desplegado por el intérprete de IPython."
      ],
      "metadata": {
        "id": "xBF2hYDDTJmV"
      }
    },
    {
      "cell_type": "code",
      "source": [
        "4 * 3"
      ],
      "metadata": {
        "colab": {
          "base_uri": "https://localhost:8080/"
        },
        "id": "4uvfR-M8Tqn1",
        "outputId": "69acd5f5-1e22-4994-c79c-75e49124125a"
      },
      "execution_count": 21,
      "outputs": [
        {
          "output_type": "execute_result",
          "data": {
            "text/plain": [
              "12"
            ]
          },
          "metadata": {},
          "execution_count": 21
        }
      ]
    },
    {
      "cell_type": "code",
      "source": [
        "15 == 25"
      ],
      "metadata": {
        "colab": {
          "base_uri": "https://localhost:8080/"
        },
        "id": "O4DrbBAdTshh",
        "outputId": "8cc6ef96-4744-4214-b820-555494f92e52"
      },
      "execution_count": 22,
      "outputs": [
        {
          "output_type": "execute_result",
          "data": {
            "text/plain": [
              "False"
            ]
          },
          "metadata": {},
          "execution_count": 22
        }
      ]
    },
    {
      "cell_type": "code",
      "source": [
        "\"hola\" + \" mundo\""
      ],
      "metadata": {
        "colab": {
          "base_uri": "https://localhost:8080/",
          "height": 35
        },
        "id": "Am_20U6ETxCJ",
        "outputId": "22e9d55e-b6b5-490b-93e9-655bf7a4ede6"
      },
      "execution_count": 24,
      "outputs": [
        {
          "output_type": "execute_result",
          "data": {
            "text/plain": [
              "'hola mundo'"
            ],
            "application/vnd.google.colaboratory.intrinsic+json": {
              "type": "string"
            }
          },
          "metadata": {},
          "execution_count": 24
        }
      ]
    },
    {
      "cell_type": "markdown",
      "source": [
        "**Comentarios.** Los comentarios son porciones de texto que aún cuando se encuentran dentro de un bloque de código, no son interpretados por Python y sirven primordialmente para documetar al código."
      ],
      "metadata": {
        "id": "2JxeK5QPT32p"
      }
    },
    {
      "cell_type": "markdown",
      "source": [
        "# **Docstrings.**\n",
        "Python tambiénpermite incluir comentarios de varias líneas. Éstos deben de estar encerrados entre triples comillas \"\"\" o entre triples apóstrofes '''.\n",
        "Este tipo de comentarios son conocidos como **\"docstrings\"** y son utlizados para generar documentación que se desplegaría mediante la función help().\n",
        "La siguiente celda define uan función con nombre funcion(), la cual incluye un docstring al principio de esta y otro al final."
      ],
      "metadata": {
        "id": "iAWCS-1_UIml"
      }
    },
    {
      "cell_type": "code",
      "source": [
        "def funcion():\n",
        "  \"\"\"Ejemplo del uso de una docstring.\n",
        "  En este caso se utiliza para documentar una función.\"\"\"\n",
        "  print(\"Hola\")\n",
        "  \"\"\"Este es otro docstring.\n",
        "  No formará parte de la documentación.\"\"\""
      ],
      "metadata": {
        "id": "2Sc8JMdNUxWq"
      },
      "execution_count": 25,
      "outputs": []
    },
    {
      "cell_type": "markdown",
      "source": [
        "Una vez qe fue definida la función funcion(), el primer docstring será parte de la documentación."
      ],
      "metadata": {
        "id": "7g0n3WY9VFQO"
      }
    },
    {
      "cell_type": "code",
      "source": [
        "help(funcion)"
      ],
      "metadata": {
        "colab": {
          "base_uri": "https://localhost:8080/"
        },
        "id": "7tZJr_OeVMiA",
        "outputId": "b2cf3294-733d-428e-95ef-8574d9cfdd93"
      },
      "execution_count": 26,
      "outputs": [
        {
          "output_type": "stream",
          "name": "stdout",
          "text": [
            "Help on function funcion in module __main__:\n",
            "\n",
            "funcion()\n",
            "    Ejemplo del uso de una docstring.\n",
            "    En este caso se utiliza para documentar una función.\n",
            "\n"
          ]
        }
      ]
    }
  ]
}