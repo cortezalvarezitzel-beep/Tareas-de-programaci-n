{
  "nbformat": 4,
  "nbformat_minor": 0,
  "metadata": {
    "colab": {
      "provenance": [],
      "authorship_tag": "ABX9TyOMvv+cyJy0gi4YyAHzVSxE",
      "include_colab_link": true
    },
    "kernelspec": {
      "name": "python3",
      "display_name": "Python 3"
    },
    "language_info": {
      "name": "python"
    }
  },
  "cells": [
    {
      "cell_type": "markdown",
      "metadata": {
        "id": "view-in-github",
        "colab_type": "text"
      },
      "source": [
        "<a href=\"https://colab.research.google.com/github/cortezalvarezitzel-beep/Tareas-de-programaci-n/blob/main/Clase_3.ipynb\" target=\"_parent\"><img src=\"https://colab.research.google.com/assets/colab-badge.svg\" alt=\"Open In Colab\"/></a>"
      ]
    },
    {
      "cell_type": "code",
      "execution_count": null,
      "metadata": {
        "id": "QtmQYZSARELm"
      },
      "outputs": [],
      "source": []
    },
    {
      "cell_type": "markdown",
      "source": [
        "**#Tipos de datos**\n",
        "\n",
        "Python ha evolucionado para ofreces poderosos tipos de datos que lo diferencian de otros lenguajes de programación por su sencillez y flexibilidad.\n",
        "Aún cuando Python cuenta con una amplia bibliotexa que incluye muy diversos tipos de datos, ofrece ciertos tipos básicos."
      ],
      "metadata": {
        "id": "ZHua0uWzWeEh"
      }
    },
    {
      "cell_type": "markdown",
      "source": [
        "# Particularidades los tipos de datos en Python.\n",
        "**Tipos dinámicos.**\n",
        "\n",
        "Python es un lenguaje que no requiere que se defin el tipo de un objeto. El intérprete \"infiere\" el tipo de dato que se trata.\n",
        "\n",
        "**Fuertemente tipado.**\n",
        "\n",
        "Existen operaciones que no están permitidas entre tipos que no sean compatibles.\n",
        "\n",
        "**Los tipos son clases.**\n",
        "\n",
        "En Python todos sus elementos son objetos y los datos una vez identificados, se convierten en objetos instanciaados del tipo al que pertenecen.\n",
        "\n",
        "**Tabla de tipos de datos básicos de Python 3.**\n",
        "\n",
        "La siguiente tabla resume y describe los tipos de datos básicos de Python 3."
      ],
      "metadata": {
        "id": "CMHN7mtgW2lf"
      }
    },
    {
      "cell_type": "markdown",
      "source": [
        "Así se define al número 24 en sistema decimal"
      ],
      "metadata": {
        "id": "SJF1MuTGwG4O"
      }
    },
    {
      "cell_type": "code",
      "source": [
        "24"
      ],
      "metadata": {
        "colab": {
          "base_uri": "https://localhost:8080/"
        },
        "id": "fVDL_CArwMqe",
        "outputId": "59cae89e-a7e6-4542-81e7-355207fab7ad"
      },
      "execution_count": 1,
      "outputs": [
        {
          "output_type": "execute_result",
          "data": {
            "text/plain": [
              "24"
            ]
          },
          "metadata": {},
          "execution_count": 1
        }
      ]
    },
    {
      "cell_type": "code",
      "source": [
        "0b10001011"
      ],
      "metadata": {
        "colab": {
          "base_uri": "https://localhost:8080/"
        },
        "id": "B6OSF2hJwh5T",
        "outputId": "32df56c4-337f-439f-ca45-80da39296e86"
      },
      "execution_count": 2,
      "outputs": [
        {
          "output_type": "execute_result",
          "data": {
            "text/plain": [
              "139"
            ]
          },
          "metadata": {},
          "execution_count": 2
        }
      ]
    },
    {
      "cell_type": "markdown",
      "source": [
        "La siguiente celda define al número 1522 en formato, hexadecimal."
      ],
      "metadata": {
        "id": "6QxoYDIbwn3r"
      }
    },
    {
      "cell_type": "code",
      "source": [
        "0x5f2"
      ],
      "metadata": {
        "colab": {
          "base_uri": "https://localhost:8080/"
        },
        "id": "_Sp0t2q6wueK",
        "outputId": "c3db9187-87a4-46c8-a46d-ff2c5b234529"
      },
      "execution_count": 3,
      "outputs": [
        {
          "output_type": "execute_result",
          "data": {
            "text/plain": [
              "1522"
            ]
          },
          "metadata": {},
          "execution_count": 3
        }
      ]
    },
    {
      "cell_type": "markdown",
      "source": [
        "La siguiente celda define al número 159 en forma octal."
      ],
      "metadata": {
        "id": "kVfMR1i-wyCn"
      }
    },
    {
      "cell_type": "code",
      "source": [
        "0o237"
      ],
      "metadata": {
        "colab": {
          "base_uri": "https://localhost:8080/"
        },
        "id": "82cy_rxSw2uD",
        "outputId": "ac0aafb5-9589-4fd3-91c8-a5592d808c16"
      },
      "execution_count": 4,
      "outputs": [
        {
          "output_type": "execute_result",
          "data": {
            "text/plain": [
              "159"
            ]
          },
          "metadata": {},
          "execution_count": 4
        }
      ]
    },
    {
      "cell_type": "markdown",
      "source": [
        "**Números de punto flotante (float).**\n",
        "\n",
        "Los objetos tipo float corresponden al conjunto de los números reales.\n",
        "\n",
        "**Ejemplos:**\n",
        "\n",
        "3.141595\n",
        "\n",
        "12.\n",
        "\n",
        "-45.3556\n",
        "\n",
        "**Precisión de los números flotantes.**\n",
        "\n",
        "Hay que tomar en cuenta de que la precisión de los números dependen en gran medida de la capacidad del equipo de cómputo, por lo que en ocasiones una operación con números de tipo float no dará el resultado exacto, sino una aproximación.\n",
        "\n",
        "#Ejemplo:\n",
        "La siguiente expresión da por resultado un número racional que corresponde a una suceción infinita del dígito 6 después del punto decimal."
      ],
      "metadata": {
        "id": "hwOrEMIOw6gW"
      }
    },
    {
      "cell_type": "code",
      "source": [
        "2/3"
      ],
      "metadata": {
        "colab": {
          "base_uri": "https://localhost:8080/"
        },
        "id": "YZpcX_NVyI0u",
        "outputId": "f252e416-867c-4dff-fd04-6370eed58b82"
      },
      "execution_count": 5,
      "outputs": [
        {
          "output_type": "execute_result",
          "data": {
            "text/plain": [
              "0.6666666666666666"
            ]
          },
          "metadata": {},
          "execution_count": 5
        }
      ]
    },
    {
      "cell_type": "markdown",
      "source": [
        "En este caso, es imposible para Python calcular una sucesión infinita de 6 y por ende truncó el número a 16 decimales.\n",
        "\n",
        "**Números complejos (complex).**\n",
        "\n",
        "Los objetos de tipo complex corresponden al conjunto de los números complejos.\n",
        "\n",
        "Siempre que el componente en los números reales sea distinto de 0, los objetos de tipo complex se expresarán como un par de números de tipo float separados por el operador de adición +, en el que el primer número corresponde al componente en los número reales y el componente en los números imaginarios es identificado añadiéndole la letra j al final.\n",
        "\n",
        "La sintaxis estricta es la siguiente:\n",
        "\n",
        "Cuando el componente imagionario es positivo. `(<real>+<imaginario>j)`\n",
        "\n",
        "Cuando el componente imaginario es negativo. `(<real>-<imaginario>j)`\n",
        "\n",
        "Cuando el componente real es igual a 0. `<imaginario>j`\n",
        "\n",
        "**Ejemplos:**\n",
        "\n",
        "La siguiente celda muestra la forma estricta en la que se define un objeto tipo **complex.**"
      ],
      "metadata": {
        "id": "ojdJzgKKyLsz"
      }
    },
    {
      "cell_type": "code",
      "source": [
        "(2+5j)"
      ],
      "metadata": {
        "colab": {
          "base_uri": "https://localhost:8080/"
        },
        "id": "v-XA1UK90Qoz",
        "outputId": "ee9646b9-d61f-46a1-9cf0-10bb91c016e8"
      },
      "execution_count": 6,
      "outputs": [
        {
          "output_type": "execute_result",
          "data": {
            "text/plain": [
              "(2+5j)"
            ]
          },
          "metadata": {},
          "execution_count": 6
        }
      ]
    },
    {
      "cell_type": "markdown",
      "source": [
        "Las siguientes expresiones implican operaciones aritméticas con números imaginarios, las cuales dan por resultado objetos tipo complex."
      ],
      "metadata": {
        "id": "QozGvgFR0VNb"
      }
    },
    {
      "cell_type": "code",
      "source": [
        "1.323 - 1j"
      ],
      "metadata": {
        "colab": {
          "base_uri": "https://localhost:8080/"
        },
        "id": "XrLHusig0lOW",
        "outputId": "b5caf16a-2157-4dab-d75d-18241839cd5d"
      },
      "execution_count": 7,
      "outputs": [
        {
          "output_type": "execute_result",
          "data": {
            "text/plain": [
              "(1.323-1j)"
            ]
          },
          "metadata": {},
          "execution_count": 7
        }
      ]
    },
    {
      "cell_type": "code",
      "source": [
        "-2.9j - 23.03"
      ],
      "metadata": {
        "colab": {
          "base_uri": "https://localhost:8080/"
        },
        "id": "CRVHT5qM0ozX",
        "outputId": "698b6f15-3fb1-4a03-e388-59cdffe05d51"
      },
      "execution_count": 8,
      "outputs": [
        {
          "output_type": "execute_result",
          "data": {
            "text/plain": [
              "(-23.03-2.9j)"
            ]
          },
          "metadata": {},
          "execution_count": 8
        }
      ]
    },
    {
      "cell_type": "code",
      "source": [
        "12.4 + 0j"
      ],
      "metadata": {
        "colab": {
          "base_uri": "https://localhost:8080/"
        },
        "id": "xOG9kP2o0syG",
        "outputId": "8a9e2bff-7929-4382-b7e0-0e090ff00fcd"
      },
      "execution_count": 9,
      "outputs": [
        {
          "output_type": "execute_result",
          "data": {
            "text/plain": [
              "(12.4+0j)"
            ]
          },
          "metadata": {},
          "execution_count": 9
        }
      ]
    },
    {
      "cell_type": "markdown",
      "source": [
        "En caso de que sólo se defina el componente imaginario, el resultado sólo será este componente."
      ],
      "metadata": {
        "id": "5AV8os6B0wfY"
      }
    },
    {
      "cell_type": "code",
      "source": [
        "15j"
      ],
      "metadata": {
        "colab": {
          "base_uri": "https://localhost:8080/"
        },
        "id": "HubeYLK80691",
        "outputId": "320eaeea-939a-4285-8549-4c3275444fff"
      },
      "execution_count": 10,
      "outputs": [
        {
          "output_type": "execute_result",
          "data": {
            "text/plain": [
              "15j"
            ]
          },
          "metadata": {},
          "execution_count": 10
        }
      ]
    },
    {
      "cell_type": "markdown",
      "source": [
        "**Valores booleanos (bool).**\n",
        "\n",
        "El tipo bool es una especie de tipo numérico que es utilizado para evaluar expresiones lógicas y tiene dos valores: **True** y **False.**\n",
        "\n",
        "- Si la expresión lógica es cierta, el resultado es True.\n",
        "- Si la expresión lógica NO es cierta, el resultado es False. El tipo bool es una especie de tipo numérico.\n",
        "- False equivale numéricamente a **0**.\n",
        "- Cualquier otro valor no vacío equivale a True y su valor por defecto es **1**."
      ],
      "metadata": {
        "id": "4qV_NDBu09qp"
      }
    },
    {
      "cell_type": "code",
      "source": [
        "True"
      ],
      "metadata": {
        "colab": {
          "base_uri": "https://localhost:8080/"
        },
        "id": "1tldRDaI2AZS",
        "outputId": "dc039e66-988e-467a-dfc1-c6719b09ca35"
      },
      "execution_count": 11,
      "outputs": [
        {
          "output_type": "execute_result",
          "data": {
            "text/plain": [
              "True"
            ]
          },
          "metadata": {},
          "execution_count": 11
        }
      ]
    },
    {
      "cell_type": "code",
      "source": [
        "False"
      ],
      "metadata": {
        "colab": {
          "base_uri": "https://localhost:8080/"
        },
        "id": "KJduw10D2CwP",
        "outputId": "18b20f47-69cc-4dfc-86ca-33bdc6add08f"
      },
      "execution_count": 12,
      "outputs": [
        {
          "output_type": "execute_result",
          "data": {
            "text/plain": [
              "False"
            ]
          },
          "metadata": {},
          "execution_count": 12
        }
      ]
    },
    {
      "cell_type": "markdown",
      "source": [
        "**NoneType.**\n",
        "\n",
        "El único objeto de este tipo es None y representa un valor nulo.\n",
        "\n",
        "Una expresión que dé por resultado None no es desplegado por el intérprete.\n",
        "\n",
        "Ejemplo: **texto en negrita**\n",
        "\n",
        "La siguiente celda incluye al objeto None, pero al ejecutarla, no se despliega nada."
      ],
      "metadata": {
        "id": "pyR1kgCu2Gji"
      }
    },
    {
      "cell_type": "code",
      "source": [
        "None"
      ],
      "metadata": {
        "id": "26FrkGrn3CpY"
      },
      "execution_count": 13,
      "outputs": []
    }
  ]
}