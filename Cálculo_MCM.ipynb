{
  "nbformat": 4,
  "nbformat_minor": 0,
  "metadata": {
    "colab": {
      "provenance": [],
      "authorship_tag": "ABX9TyOQn6RIzRbwdhC58hRBBgTt",
      "include_colab_link": true
    },
    "kernelspec": {
      "name": "python3",
      "display_name": "Python 3"
    },
    "language_info": {
      "name": "python"
    }
  },
  "cells": [
    {
      "cell_type": "markdown",
      "metadata": {
        "id": "view-in-github",
        "colab_type": "text"
      },
      "source": [
        "<a href=\"https://colab.research.google.com/github/cortezalvarezitzel-beep/Tareas-de-programaci-n/blob/main/C%C3%A1lculo_MCM.ipynb\" target=\"_parent\"><img src=\"https://colab.research.google.com/assets/colab-badge.svg\" alt=\"Open In Colab\"/></a>"
      ]
    },
    {
      "cell_type": "code",
      "execution_count": 3,
      "metadata": {
        "colab": {
          "base_uri": "https://localhost:8080/"
        },
        "id": "5RwHgF9Ntb77",
        "outputId": "462f0250-9516-4e68-cdcd-ef400ae48ffc"
      },
      "outputs": [
        {
          "output_type": "stream",
          "name": "stdout",
          "text": [
            "Ingresa el primer número24\n",
            "Ingresa el segundo número36\n",
            "El MCM de 24 y 36 es 72.0\n"
          ]
        }
      ],
      "source": [
        "# Función para calcular el MCD (Máximo Común Divisor)\n",
        "def calcular_mcd(a, b):\n",
        "    while b != 0:\n",
        "        a, b = b, a % b\n",
        "    return a\n",
        "# Función pra calcular el MCM usando el MCD\n",
        "def calcular_mcm(a, b) :\n",
        "     mcd=calcular_mcd(a,b)\n",
        "     mcm=(a*b)/mcd\n",
        "     return mcm\n",
        "#Entrada del usuario\n",
        "a= int(input(\"Ingresa el primer número\"))\n",
        "b= int(input(\"Ingresa el segundo número\"))\n",
        "\n",
        "# Cálculo y salida\n",
        "resultado=calcular_mcm(a,b)\n",
        "print(f\"El MCM de {a} y {b} es {resultado}\")"
      ]
    }
  ]
}