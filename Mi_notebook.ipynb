{
  "nbformat": 4,
  "nbformat_minor": 0,
  "metadata": {
    "colab": {
      "provenance": [],
      "authorship_tag": "ABX9TyMbHnlG6o9O1edTWqoVqsj4",
      "include_colab_link": true
    },
    "kernelspec": {
      "name": "python3",
      "display_name": "Python 3"
    },
    "language_info": {
      "name": "python"
    }
  },
  "cells": [
    {
      "cell_type": "markdown",
      "metadata": {
        "id": "view-in-github",
        "colab_type": "text"
      },
      "source": [
        "<a href=\"https://colab.research.google.com/github/cortezalvarezitzel-beep/Tareas-de-programaci-n/blob/main/Mi_notebook.ipynb\" target=\"_parent\"><img src=\"https://colab.research.google.com/assets/colab-badge.svg\" alt=\"Open In Colab\"/></a>"
      ]
    },
    {
      "cell_type": "code",
      "execution_count": null,
      "metadata": {
        "colab": {
          "base_uri": "https://localhost:8080/"
        },
        "id": "_LsmhRc8IzZO",
        "outputId": "204fadc9-199b-4cfc-b786-b8aba18cb037"
      },
      "outputs": [
        {
          "output_type": "stream",
          "name": "stdout",
          "text": [
            "Hola, mundo\n"
          ]
        }
      ],
      "source": [
        "print (\"Hola, mundo\")"
      ]
    },
    {
      "cell_type": "code",
      "source": [
        "Hola, soy Itzel Cortez y esto es una prueba para aprender a usar GitHub y Colab"
      ],
      "metadata": {
        "id": "aHP-jcwuI6pw"
      },
      "execution_count": null,
      "outputs": []
    }
  ]
}