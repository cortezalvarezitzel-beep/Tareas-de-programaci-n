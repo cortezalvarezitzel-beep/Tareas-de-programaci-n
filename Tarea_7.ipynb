{
  "nbformat": 4,
  "nbformat_minor": 0,
  "metadata": {
    "colab": {
      "provenance": [],
      "authorship_tag": "ABX9TyPCFg37IhaegoFuiiaVrvBJ",
      "include_colab_link": true
    },
    "kernelspec": {
      "name": "python3",
      "display_name": "Python 3"
    },
    "language_info": {
      "name": "python"
    }
  },
  "cells": [
    {
      "cell_type": "markdown",
      "metadata": {
        "id": "view-in-github",
        "colab_type": "text"
      },
      "source": [
        "<a href=\"https://colab.research.google.com/github/cortezalvarezitzel-beep/Tareas-de-programaci-n/blob/main/Tarea_7.ipynb\" target=\"_parent\"><img src=\"https://colab.research.google.com/assets/colab-badge.svg\" alt=\"Open In Colab\"/></a>"
      ]
    },
    {
      "cell_type": "code",
      "execution_count": null,
      "metadata": {
        "id": "OTE8r42nWhNG"
      },
      "outputs": [],
      "source": []
    },
    {
      "cell_type": "markdown",
      "source": [
        "# **Tipos de datos en Python**"
      ],
      "metadata": {
        "id": "ZptOpv8JgWwq"
      }
    },
    {
      "cell_type": "markdown",
      "source": [
        "# Entero"
      ],
      "metadata": {
        "id": "huYatvz4gf96"
      }
    },
    {
      "cell_type": "code",
      "source": [
        "x = 10\n",
        "print(\"Entero:\", x)"
      ],
      "metadata": {
        "colab": {
          "base_uri": "https://localhost:8080/"
        },
        "id": "EDQhKCMVgjUY",
        "outputId": "d0c707c6-5acf-4274-eab6-acb979663136"
      },
      "execution_count": 1,
      "outputs": [
        {
          "output_type": "stream",
          "name": "stdout",
          "text": [
            "Entero: 10\n"
          ]
        }
      ]
    },
    {
      "cell_type": "markdown",
      "source": [
        "# Decimal"
      ],
      "metadata": {
        "id": "DDzIgTpXgu9s"
      }
    },
    {
      "cell_type": "code",
      "source": [
        "y = 3.14\n",
        "print(\"Float:\", y)"
      ],
      "metadata": {
        "colab": {
          "base_uri": "https://localhost:8080/"
        },
        "id": "w6TtoojUgyd9",
        "outputId": "06f4daef-2039-4ff5-8140-9858bc4101f5"
      },
      "execution_count": 2,
      "outputs": [
        {
          "output_type": "stream",
          "name": "stdout",
          "text": [
            "Float: 3.14\n"
          ]
        }
      ]
    },
    {
      "cell_type": "markdown",
      "source": [
        "# Cadena"
      ],
      "metadata": {
        "id": "CM0MjG9ug-vV"
      }
    },
    {
      "cell_type": "code",
      "source": [
        "nombre = \"Itzel\"\n",
        "print(\"Cadena:\", nombre)"
      ],
      "metadata": {
        "colab": {
          "base_uri": "https://localhost:8080/"
        },
        "id": "jVG7PUNGhA7z",
        "outputId": "e65b3d76-33a9-4273-cb8f-352c69470bf2"
      },
      "execution_count": 4,
      "outputs": [
        {
          "output_type": "stream",
          "name": "stdout",
          "text": [
            "Cadena: Itzel\n"
          ]
        }
      ]
    },
    {
      "cell_type": "markdown",
      "source": [
        "# Booleano"
      ],
      "metadata": {
        "id": "1mfrs3GKhIMQ"
      }
    },
    {
      "cell_type": "code",
      "source": [
        "flag= True\n",
        "print(\"Booleano:\", flag)"
      ],
      "metadata": {
        "colab": {
          "base_uri": "https://localhost:8080/"
        },
        "id": "cmYnYoe9hJ5M",
        "outputId": "b58c55f0-6f69-41d3-8e9d-4da5fa017f52"
      },
      "execution_count": 5,
      "outputs": [
        {
          "output_type": "stream",
          "name": "stdout",
          "text": [
            "Booleano: True\n"
          ]
        }
      ]
    },
    {
      "cell_type": "markdown",
      "source": [
        "# Lista"
      ],
      "metadata": {
        "id": "VuJCTiByhRw3"
      }
    },
    {
      "cell_type": "code",
      "source": [
        "numeros = [1, 2, 3, 4, 5]\n",
        "print(\"Lista:\", numeros)"
      ],
      "metadata": {
        "colab": {
          "base_uri": "https://localhost:8080/"
        },
        "id": "OWstsBVxhTGd",
        "outputId": "c8593a18-a00f-4815-c24c-298f34514bad"
      },
      "execution_count": 6,
      "outputs": [
        {
          "output_type": "stream",
          "name": "stdout",
          "text": [
            "Lista: [1, 2, 3, 4, 5]\n"
          ]
        }
      ]
    },
    {
      "cell_type": "markdown",
      "source": [
        "# Tupla"
      ],
      "metadata": {
        "id": "heSCmtbIhW5N"
      }
    },
    {
      "cell_type": "code",
      "source": [
        "coordenadas = (14, 25)\n",
        "print(\"Tupla:\", coordenadas)"
      ],
      "metadata": {
        "colab": {
          "base_uri": "https://localhost:8080/"
        },
        "id": "b8EbdoAohYfL",
        "outputId": "39358bde-a6c3-4c3a-e039-baf1edd5cc04"
      },
      "execution_count": 8,
      "outputs": [
        {
          "output_type": "stream",
          "name": "stdout",
          "text": [
            "Tupla: (14, 25)\n"
          ]
        }
      ]
    },
    {
      "cell_type": "markdown",
      "source": [
        "# Conjunto"
      ],
      "metadata": {
        "id": "slYimLZgheL7"
      }
    },
    {
      "cell_type": "code",
      "source": [
        "colores = {\"rojo\", \"verde\", \"rosa\"}\n",
        "print(\"Conjunto:\", colores)"
      ],
      "metadata": {
        "colab": {
          "base_uri": "https://localhost:8080/"
        },
        "id": "L05ZGOU2hf6x",
        "outputId": "0518a23a-9605-4cea-b2e2-b19063430e32"
      },
      "execution_count": 10,
      "outputs": [
        {
          "output_type": "stream",
          "name": "stdout",
          "text": [
            "Conjunto: {'verde', 'rosa', 'rojo'}\n"
          ]
        }
      ]
    },
    {
      "cell_type": "markdown",
      "source": [
        "# Diccionario"
      ],
      "metadata": {
        "id": "rjaEH45KhoN0"
      }
    },
    {
      "cell_type": "code",
      "source": [
        "persona = {\"nombre\": \"Itzel\", \"edad\": 20}\n",
        "print(\"Diccionario:\", persona)"
      ],
      "metadata": {
        "colab": {
          "base_uri": "https://localhost:8080/"
        },
        "id": "ohzbDWGGhqxt",
        "outputId": "cbfe5079-d152-4f06-b85a-c137b21c644c"
      },
      "execution_count": 11,
      "outputs": [
        {
          "output_type": "stream",
          "name": "stdout",
          "text": [
            "Diccionario: {'nombre': 'Itzel', 'edad': 20}\n"
          ]
        }
      ]
    }
  ]
}